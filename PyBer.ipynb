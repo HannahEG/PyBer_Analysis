{
 "cells": [
  {
   "cell_type": "code",
   "execution_count": 2,
   "metadata": {
    "tags": []
   },
   "outputs": [],
   "source": [
    "# Add Matplotlib inline magic command\n",
    "%matplotlib inline\n",
    "\n",
    "# Dependencies\n",
    "import matplotlib.pyplot as plt \n",
    "import pandas as pd "
   ]
  },
  {
   "cell_type": "code",
   "execution_count": 3,
   "metadata": {},
   "outputs": [],
   "source": [
    "# Files to load\n",
    "city_data_to_load = \"Resources/city_data.csv\"\n",
    "ride_data_to_load = \"Resources/ride_data.csv\""
   ]
  },
  {
   "cell_type": "code",
   "execution_count": 4,
   "metadata": {},
   "outputs": [
    {
     "output_type": "execute_result",
     "data": {
      "text/plain": "            city  driver_count   type\n0    Richardfort            38  Urban\n1   Williamsstad            59  Urban\n2    Port Angela            67  Urban\n3     Rodneyfort            34  Urban\n4    West Robert            39  Urban\n5   West Anthony            70  Urban\n6    West Angela            48  Urban\n7  Martinezhaven            25  Urban\n8      Karenberg            22  Urban\n9    Barajasview            26  Urban",
      "text/html": "<div>\n<style scoped>\n    .dataframe tbody tr th:only-of-type {\n        vertical-align: middle;\n    }\n\n    .dataframe tbody tr th {\n        vertical-align: top;\n    }\n\n    .dataframe thead th {\n        text-align: right;\n    }\n</style>\n<table border=\"1\" class=\"dataframe\">\n  <thead>\n    <tr style=\"text-align: right;\">\n      <th></th>\n      <th>city</th>\n      <th>driver_count</th>\n      <th>type</th>\n    </tr>\n  </thead>\n  <tbody>\n    <tr>\n      <th>0</th>\n      <td>Richardfort</td>\n      <td>38</td>\n      <td>Urban</td>\n    </tr>\n    <tr>\n      <th>1</th>\n      <td>Williamsstad</td>\n      <td>59</td>\n      <td>Urban</td>\n    </tr>\n    <tr>\n      <th>2</th>\n      <td>Port Angela</td>\n      <td>67</td>\n      <td>Urban</td>\n    </tr>\n    <tr>\n      <th>3</th>\n      <td>Rodneyfort</td>\n      <td>34</td>\n      <td>Urban</td>\n    </tr>\n    <tr>\n      <th>4</th>\n      <td>West Robert</td>\n      <td>39</td>\n      <td>Urban</td>\n    </tr>\n    <tr>\n      <th>5</th>\n      <td>West Anthony</td>\n      <td>70</td>\n      <td>Urban</td>\n    </tr>\n    <tr>\n      <th>6</th>\n      <td>West Angela</td>\n      <td>48</td>\n      <td>Urban</td>\n    </tr>\n    <tr>\n      <th>7</th>\n      <td>Martinezhaven</td>\n      <td>25</td>\n      <td>Urban</td>\n    </tr>\n    <tr>\n      <th>8</th>\n      <td>Karenberg</td>\n      <td>22</td>\n      <td>Urban</td>\n    </tr>\n    <tr>\n      <th>9</th>\n      <td>Barajasview</td>\n      <td>26</td>\n      <td>Urban</td>\n    </tr>\n  </tbody>\n</table>\n</div>"
     },
     "metadata": {},
     "execution_count": 4
    }
   ],
   "source": [
    "# Read city file and store in pandas DataFrame\n",
    "cityDataDF = pd.read_csv(city_data_to_load)\n",
    "cityDataDF.head(10)"
   ]
  },
  {
   "cell_type": "code",
   "execution_count": 5,
   "metadata": {},
   "outputs": [
    {
     "output_type": "execute_result",
     "data": {
      "text/plain": "                 city                 date   fare        ride_id\n0  Lake Jonathanshire  2019-01-14 10:14:22  13.83  5739410935873\n1  South Michelleport  2019-03-04 18:24:09  30.24  2343912425577\n2  Port Samanthamouth  2019-02-24 04:29:00  33.44  2005065760003\n3          Rodneyfort  2019-02-10 23:22:03  23.44  5149245426178\n4          South Jack  2019-03-06 04:28:35  34.58  3908451377344\n5        South Latoya  2019-03-11 12:26:48   9.52  1994999424437\n6       New Paulville  2019-02-27 11:17:56  43.25   793208410091\n7        Simpsonburgh  2019-04-26 00:43:24  35.98   111953927754\n8     South Karenland  2019-01-08 03:28:48  35.09  7995623208694\n9       North Jasmine  2019-03-09 06:26:29  42.81  5327642267789",
      "text/html": "<div>\n<style scoped>\n    .dataframe tbody tr th:only-of-type {\n        vertical-align: middle;\n    }\n\n    .dataframe tbody tr th {\n        vertical-align: top;\n    }\n\n    .dataframe thead th {\n        text-align: right;\n    }\n</style>\n<table border=\"1\" class=\"dataframe\">\n  <thead>\n    <tr style=\"text-align: right;\">\n      <th></th>\n      <th>city</th>\n      <th>date</th>\n      <th>fare</th>\n      <th>ride_id</th>\n    </tr>\n  </thead>\n  <tbody>\n    <tr>\n      <th>0</th>\n      <td>Lake Jonathanshire</td>\n      <td>2019-01-14 10:14:22</td>\n      <td>13.83</td>\n      <td>5739410935873</td>\n    </tr>\n    <tr>\n      <th>1</th>\n      <td>South Michelleport</td>\n      <td>2019-03-04 18:24:09</td>\n      <td>30.24</td>\n      <td>2343912425577</td>\n    </tr>\n    <tr>\n      <th>2</th>\n      <td>Port Samanthamouth</td>\n      <td>2019-02-24 04:29:00</td>\n      <td>33.44</td>\n      <td>2005065760003</td>\n    </tr>\n    <tr>\n      <th>3</th>\n      <td>Rodneyfort</td>\n      <td>2019-02-10 23:22:03</td>\n      <td>23.44</td>\n      <td>5149245426178</td>\n    </tr>\n    <tr>\n      <th>4</th>\n      <td>South Jack</td>\n      <td>2019-03-06 04:28:35</td>\n      <td>34.58</td>\n      <td>3908451377344</td>\n    </tr>\n    <tr>\n      <th>5</th>\n      <td>South Latoya</td>\n      <td>2019-03-11 12:26:48</td>\n      <td>9.52</td>\n      <td>1994999424437</td>\n    </tr>\n    <tr>\n      <th>6</th>\n      <td>New Paulville</td>\n      <td>2019-02-27 11:17:56</td>\n      <td>43.25</td>\n      <td>793208410091</td>\n    </tr>\n    <tr>\n      <th>7</th>\n      <td>Simpsonburgh</td>\n      <td>2019-04-26 00:43:24</td>\n      <td>35.98</td>\n      <td>111953927754</td>\n    </tr>\n    <tr>\n      <th>8</th>\n      <td>South Karenland</td>\n      <td>2019-01-08 03:28:48</td>\n      <td>35.09</td>\n      <td>7995623208694</td>\n    </tr>\n    <tr>\n      <th>9</th>\n      <td>North Jasmine</td>\n      <td>2019-03-09 06:26:29</td>\n      <td>42.81</td>\n      <td>5327642267789</td>\n    </tr>\n  </tbody>\n</table>\n</div>"
     },
     "metadata": {},
     "execution_count": 5
    }
   ],
   "source": [
    "# Read ride file and store in pandas DataFrame\n",
    "rideDataDF = pd.read_csv(ride_data_to_load)\n",
    "rideDataDF.head(10)"
   ]
  },
  {
   "cell_type": "code",
   "execution_count": 6,
   "metadata": {},
   "outputs": [
    {
     "output_type": "execute_result",
     "data": {
      "text/plain": "city            120\ndriver_count    120\ntype            120\ndtype: int64"
     },
     "metadata": {},
     "execution_count": 6
    }
   ],
   "source": [
    "# Get columns and rows that are not null\n",
    "cityDataDF.count()"
   ]
  },
  {
   "cell_type": "code",
   "execution_count": 7,
   "metadata": {},
   "outputs": [
    {
     "output_type": "execute_result",
     "data": {
      "text/plain": "city            0\ndriver_count    0\ntype            0\ndtype: int64"
     },
     "metadata": {},
     "execution_count": 7
    }
   ],
   "source": [
    "# Double check columns and rows for null\n",
    "cityDataDF.isnull().sum()"
   ]
  },
  {
   "cell_type": "code",
   "execution_count": 8,
   "metadata": {},
   "outputs": [
    {
     "output_type": "execute_result",
     "data": {
      "text/plain": "city            object\ndriver_count     int64\ntype            object\ndtype: object"
     },
     "metadata": {},
     "execution_count": 8
    }
   ],
   "source": [
    "# Get data types of each column\n",
    "cityDataDF.dtypes"
   ]
  },
  {
   "cell_type": "code",
   "execution_count": 9,
   "metadata": {},
   "outputs": [
    {
     "output_type": "execute_result",
     "data": {
      "text/plain": "array(['Urban', 'Suburban', 'Rural'], dtype=object)"
     },
     "metadata": {},
     "execution_count": 9
    }
   ],
   "source": [
    "# Get unique values of type of city\n",
    "cityDataDF[\"type\"].unique()"
   ]
  },
  {
   "cell_type": "code",
   "execution_count": 14,
   "metadata": {},
   "outputs": [
    {
     "output_type": "execute_result",
     "data": {
      "text/plain": "66"
     },
     "metadata": {},
     "execution_count": 14
    }
   ],
   "source": [
    "# Get number of data points for Urban, Suburban, Rural cities\n",
    "sum(cityDataDF[\"type\"]==\"Urban\")\n"
   ]
  },
  {
   "cell_type": "code",
   "execution_count": 12,
   "metadata": {},
   "outputs": [
    {
     "output_type": "execute_result",
     "data": {
      "text/plain": "36"
     },
     "metadata": {},
     "execution_count": 12
    }
   ],
   "source": [
    "sum(cityDataDF[\"type\"]==\"Suburban\")\n"
   ]
  },
  {
   "cell_type": "code",
   "execution_count": 13,
   "metadata": {},
   "outputs": [
    {
     "output_type": "execute_result",
     "data": {
      "text/plain": "18"
     },
     "metadata": {},
     "execution_count": 13
    }
   ],
   "source": [
    "sum(cityDataDF[\"type\"]==\"Rural\")"
   ]
  },
  {
   "cell_type": "code",
   "execution_count": 15,
   "metadata": {},
   "outputs": [
    {
     "output_type": "execute_result",
     "data": {
      "text/plain": "city       2375\ndate       2375\nfare       2375\nride_id    2375\ndtype: int64"
     },
     "metadata": {},
     "execution_count": 15
    }
   ],
   "source": [
    "# Get columns and rows not null in ride data\n",
    "rideDataDF.count()"
   ]
  },
  {
   "cell_type": "code",
   "execution_count": 16,
   "metadata": {},
   "outputs": [
    {
     "output_type": "execute_result",
     "data": {
      "text/plain": "city       0\ndate       0\nfare       0\nride_id    0\ndtype: int64"
     },
     "metadata": {},
     "execution_count": 16
    }
   ],
   "source": [
    "# Double check for null values\n",
    "rideDataDF.isnull().sum()"
   ]
  },
  {
   "cell_type": "code",
   "execution_count": 17,
   "metadata": {},
   "outputs": [
    {
     "output_type": "execute_result",
     "data": {
      "text/plain": "city        object\ndate        object\nfare       float64\nride_id      int64\ndtype: object"
     },
     "metadata": {},
     "execution_count": 17
    }
   ],
   "source": [
    "# Check the types of data in ride data\n",
    "rideDataDF.dtypes"
   ]
  },
  {
   "cell_type": "code",
   "execution_count": 19,
   "metadata": {},
   "outputs": [
    {
     "output_type": "execute_result",
     "data": {
      "text/plain": "                 city                 date   fare        ride_id  \\\n0  Lake Jonathanshire  2019-01-14 10:14:22  13.83  5739410935873   \n1  South Michelleport  2019-03-04 18:24:09  30.24  2343912425577   \n2  Port Samanthamouth  2019-02-24 04:29:00  33.44  2005065760003   \n3          Rodneyfort  2019-02-10 23:22:03  23.44  5149245426178   \n4          South Jack  2019-03-06 04:28:35  34.58  3908451377344   \n5        South Latoya  2019-03-11 12:26:48   9.52  1994999424437   \n6       New Paulville  2019-02-27 11:17:56  43.25   793208410091   \n7        Simpsonburgh  2019-04-26 00:43:24  35.98   111953927754   \n8     South Karenland  2019-01-08 03:28:48  35.09  7995623208694   \n9       North Jasmine  2019-03-09 06:26:29  42.81  5327642267789   \n\n   driver_count   type  \n0             5  Urban  \n1            72  Urban  \n2            57  Urban  \n3            34  Urban  \n4            46  Urban  \n5            10  Urban  \n6            44  Urban  \n7            21  Urban  \n8             4  Urban  \n9            33  Urban  ",
      "text/html": "<div>\n<style scoped>\n    .dataframe tbody tr th:only-of-type {\n        vertical-align: middle;\n    }\n\n    .dataframe tbody tr th {\n        vertical-align: top;\n    }\n\n    .dataframe thead th {\n        text-align: right;\n    }\n</style>\n<table border=\"1\" class=\"dataframe\">\n  <thead>\n    <tr style=\"text-align: right;\">\n      <th></th>\n      <th>city</th>\n      <th>date</th>\n      <th>fare</th>\n      <th>ride_id</th>\n      <th>driver_count</th>\n      <th>type</th>\n    </tr>\n  </thead>\n  <tbody>\n    <tr>\n      <th>0</th>\n      <td>Lake Jonathanshire</td>\n      <td>2019-01-14 10:14:22</td>\n      <td>13.83</td>\n      <td>5739410935873</td>\n      <td>5</td>\n      <td>Urban</td>\n    </tr>\n    <tr>\n      <th>1</th>\n      <td>South Michelleport</td>\n      <td>2019-03-04 18:24:09</td>\n      <td>30.24</td>\n      <td>2343912425577</td>\n      <td>72</td>\n      <td>Urban</td>\n    </tr>\n    <tr>\n      <th>2</th>\n      <td>Port Samanthamouth</td>\n      <td>2019-02-24 04:29:00</td>\n      <td>33.44</td>\n      <td>2005065760003</td>\n      <td>57</td>\n      <td>Urban</td>\n    </tr>\n    <tr>\n      <th>3</th>\n      <td>Rodneyfort</td>\n      <td>2019-02-10 23:22:03</td>\n      <td>23.44</td>\n      <td>5149245426178</td>\n      <td>34</td>\n      <td>Urban</td>\n    </tr>\n    <tr>\n      <th>4</th>\n      <td>South Jack</td>\n      <td>2019-03-06 04:28:35</td>\n      <td>34.58</td>\n      <td>3908451377344</td>\n      <td>46</td>\n      <td>Urban</td>\n    </tr>\n    <tr>\n      <th>5</th>\n      <td>South Latoya</td>\n      <td>2019-03-11 12:26:48</td>\n      <td>9.52</td>\n      <td>1994999424437</td>\n      <td>10</td>\n      <td>Urban</td>\n    </tr>\n    <tr>\n      <th>6</th>\n      <td>New Paulville</td>\n      <td>2019-02-27 11:17:56</td>\n      <td>43.25</td>\n      <td>793208410091</td>\n      <td>44</td>\n      <td>Urban</td>\n    </tr>\n    <tr>\n      <th>7</th>\n      <td>Simpsonburgh</td>\n      <td>2019-04-26 00:43:24</td>\n      <td>35.98</td>\n      <td>111953927754</td>\n      <td>21</td>\n      <td>Urban</td>\n    </tr>\n    <tr>\n      <th>8</th>\n      <td>South Karenland</td>\n      <td>2019-01-08 03:28:48</td>\n      <td>35.09</td>\n      <td>7995623208694</td>\n      <td>4</td>\n      <td>Urban</td>\n    </tr>\n    <tr>\n      <th>9</th>\n      <td>North Jasmine</td>\n      <td>2019-03-09 06:26:29</td>\n      <td>42.81</td>\n      <td>5327642267789</td>\n      <td>33</td>\n      <td>Urban</td>\n    </tr>\n  </tbody>\n</table>\n</div>"
     },
     "metadata": {},
     "execution_count": 19
    }
   ],
   "source": [
    "# Merge data into single dataset\n",
    "pyberDataDF = pd.merge(rideDataDF, cityDataDF, how=\"left\", on=['city', 'city'])\n",
    "# Display merged dataframe\n",
    "pyberDataDF.head(10)"
   ]
  },
  {
   "cell_type": "code",
   "execution_count": null,
   "metadata": {},
   "outputs": [],
   "source": []
  }
 ],
 "metadata": {
  "kernelspec": {
   "name": "python_defaultSpec_1593827000517",
   "display_name": "Python 3.7.7 64-bit"
  }
 },
 "nbformat": 4,
 "nbformat_minor": 4
}